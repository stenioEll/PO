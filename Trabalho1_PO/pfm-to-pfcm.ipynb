{
 "cells": [
  {
   "cell_type": "code",
   "execution_count": 7,
   "metadata": {},
   "outputs": [],
   "source": [
    "import pandas as pd\n",
    "import numpy as np\n",
    "import ortools\n",
    "from ortools.linear_solver import pywraplp\n",
    "from ortools.graph import pywrapgraph"
   ]
  },
  {
   "cell_type": "code",
   "execution_count": 8,
   "metadata": {},
   "outputs": [
    {
     "name": "stdout",
     "output_type": "stream",
     "text": [
      "['11\\n', '24\\n', '1\\n', '11\\n', '1 2 20\\n', '1 3 30\\n', '1 4 20\\n', '2 5 20\\n', '2 7 5\\n', '3 2 5 \\n', '3 6 20\\n', '4 3 5\\n', '4 7 20\\n', '5 8 20\\n', '5 10 20\\n', '6 2 5\\n', '6 5 5\\n', '6 7 5\\n', '6 8 5\\n', '6 9 20\\n', '7 3 10\\n', '7 9 20\\n', '7 10 10\\n', '8 9 6\\n', '8 11 20\\n', '9 11 30\\n', '9 10 6\\n', '10 11 25\\n']\n"
     ]
    }
   ],
   "source": [
    "#Abrindo o arquivo e salvando seus dados, linha a linha\n",
    "arquivo = open(\"instancias/instance7.txt\", 'r')\n",
    "texto = arquivo.readlines()\n",
    "arquivo.close()\n",
    "print(texto)"
   ]
  },
  {
   "cell_type": "code",
   "execution_count": 9,
   "metadata": {},
   "outputs": [
    {
     "name": "stdout",
     "output_type": "stream",
     "text": [
      "11 24 1 11\n",
      "[1, 1, 1, 2, 2, 3, 3, 4, 4, 5, 5, 6, 6, 6, 6, 6, 7, 7, 7, 8, 8, 9, 9, 10]\n",
      "[2, 3, 4, 5, 7, 2, 6, 3, 7, 8, 10, 2, 5, 7, 8, 9, 3, 9, 10, 9, 11, 11, 10, 11]\n",
      "[20, 30, 20, 20, 5, 5, 20, 5, 20, 20, 20, 5, 5, 5, 5, 20, 10, 20, 10, 6, 20, 30, 6, 25]\n"
     ]
    }
   ],
   "source": [
    "#Guardando dados nas variáveis\n",
    "n_vertices = int(texto[0].split()[0])\n",
    "n_arcos = int(texto[1].split()[0])\n",
    "i_origem = int(texto[2].split()[0])\n",
    "i_escoadouro = int(texto[3].split()[0])\n",
    "\n",
    "pontoInicial = []\n",
    "pontoFinal = []\n",
    "capacidadeArco = []\n",
    "\n",
    "for i in range(4, len(texto)):\n",
    "    pontoInicial.append(int(texto[i].split()[0]))\n",
    "    pontoFinal.append(int(texto[i].split()[1]))\n",
    "    capacidadeArco.append(int(texto[i].split()[2]))\n",
    "\n",
    "print(n_vertices, n_arcos, i_origem, i_escoadouro)\n",
    "print(pontoInicial)\n",
    "print(pontoFinal)\n",
    "print(capacidadeArco)"
   ]
  },
  {
   "cell_type": "code",
   "execution_count": 10,
   "metadata": {},
   "outputs": [
    {
     "name": "stdout",
     "output_type": "stream",
     "text": [
      "352\n",
      "[1, 1, 1, 2, 2, 3, 3, 4, 4, 5, 5, 6, 6, 6, 6, 6, 7, 7, 7, 8, 8, 9, 9, 10, 1]\n",
      "[2, 3, 4, 5, 7, 2, 6, 3, 7, 8, 10, 2, 5, 7, 8, 9, 3, 9, 10, 9, 11, 11, 10, 11, 11]\n",
      "[20, 30, 20, 20, 5, 5, 20, 5, 20, 20, 20, 5, 5, 5, 5, 20, 10, 20, 10, 6, 20, 30, 6, 25, 10000]\n",
      "[0, 0, 0, 0, 0, 0, 0, 0, 0, 0, 0, 0, 0, 0, 0, 0, 0, 0, 0, 0, 0, 0, 0, 0, 900]\n",
      "[0, 352, 0, 0, 0, 0, 0, 0, 0, 0, 0, -352]\n"
     ]
    }
   ],
   "source": [
    "#transformando o problema de fluxo máximo em fluxo de custo mínimo\n",
    "\n",
    "#definindo todos os custos como zero\n",
    "custo = []\n",
    "for i in range(4, len(texto)):\n",
    "    custo.append(0)\n",
    "\n",
    "#calculando o fluxo máximo viável\n",
    "soma = 0\n",
    "for i in capacidadeArco:\n",
    "    soma += i\n",
    "\n",
    "F = int(soma) #Limite do fluxo máximo viável pela rede\n",
    "M = 900 #Custo unitário máximo\n",
    "U = 10000 #Capacidade máxima de arco\n",
    "\n",
    "pontoInicial.append(int(i_origem))\n",
    "pontoFinal.append(int(i_escoadouro))\n",
    "capacidadeArco.append(int(U))\n",
    "custo.append(int(M))\n",
    "\n",
    "#definindo as demandas em cada nó\n",
    "suprimentos = []\n",
    "for i in range(int(n_vertices)+1):\n",
    "    suprimentos.append(0)\n",
    "\n",
    "suprimentos[i_origem] = F\n",
    "suprimentos[i_escoadouro] = -F\n",
    "\n",
    "print(soma)\n",
    "print(pontoInicial)\n",
    "print(pontoFinal)\n",
    "print(capacidadeArco)\n",
    "print(custo)\n",
    "print(suprimentos)"
   ]
  },
  {
   "cell_type": "code",
   "execution_count": 11,
   "metadata": {},
   "outputs": [
    {
     "name": "stdout",
     "output_type": "stream",
     "text": [
      "Custo Mínimo: 258300\n",
      "\n",
      "  Arco    Fluxo / Capacidade  Custo\n",
      "1 -> 2    20  /  20         0\n",
      "1 -> 3    25  /  30         0\n",
      "1 -> 4    20  /  20         0\n",
      "2 -> 5    20  /  20         0\n",
      "2 -> 7     5  /   5         0\n",
      "3 -> 2     5  /   5         0\n",
      "3 -> 6    20  /  20         0\n",
      "4 -> 3     0  /   5         0\n",
      "4 -> 7    20  /  20         0\n",
      "5 -> 8     5  /  20         0\n",
      "5 -> 10    20  /  20         0\n",
      "6 -> 2     0  /   5         0\n",
      "6 -> 5     5  /   5         0\n",
      "6 -> 7     0  /   5         0\n",
      "6 -> 8     5  /   5         0\n",
      "6 -> 9    10  /  20         0\n",
      "7 -> 3     0  /  10         0\n",
      "7 -> 9    20  /  20         0\n",
      "7 -> 10     5  /  10         0\n",
      "8 -> 9     0  /   6         0\n",
      "8 -> 11    10  /  20         0\n",
      "9 -> 11    30  /  30         0\n",
      "9 -> 10     0  /   6         0\n",
      "10 -> 11    25  /  25         0\n",
      "1 -> 11   287  / 10000       258300\n",
      "\n",
      "Fluxo Máximo =  65\n"
     ]
    }
   ],
   "source": [
    "fluxo_custo_min = pywrapgraph.SimpleMinCostFlow()\n",
    "fluxo_max = 0\n",
    "\n",
    "for i in range(0, len(pontoInicial)):\n",
    "    fluxo_custo_min.AddArcWithCapacityAndUnitCost(pontoInicial[i], pontoFinal[i], capacidadeArco[i], custo[i])\n",
    "\n",
    "for i in range(0, len(suprimentos)):\n",
    "    fluxo_custo_min.SetNodeSupply(i, suprimentos[i])\n",
    "\n",
    "if fluxo_custo_min.Solve() == fluxo_custo_min.OPTIMAL:\n",
    "    print('Custo Mínimo:', fluxo_custo_min.OptimalCost())\n",
    "    print('')\n",
    "    print('  Arco    Fluxo / Capacidade  Custo')\n",
    "    for i in range(fluxo_custo_min.NumArcs()):\n",
    "        custoArco = fluxo_custo_min.Flow(i) * fluxo_custo_min.UnitCost(i)\n",
    "        print('%1s -> %1s   %3s  / %3s       %3s' % (fluxo_custo_min.Tail(i), fluxo_custo_min.Head(i), fluxo_custo_min.Flow(i), fluxo_custo_min.Capacity(i), custoArco))\n",
    "        \n",
    "        #soma fluxo máximo\n",
    "        if fluxo_custo_min.Tail(i) == 1 and fluxo_custo_min.Capacity(i) < U:\n",
    "            fluxo_max += fluxo_custo_min.Flow(i)\n",
    "else:\n",
    "    print('Não foi possível encontrar a solução.')\n",
    "\n",
    "print(\"\")\n",
    "print(\"Fluxo Máximo = \", fluxo_max)"
   ]
  }
 ],
 "metadata": {
  "kernelspec": {
   "display_name": "Python 3",
   "language": "python",
   "name": "python3"
  },
  "language_info": {
   "codemirror_mode": {
    "name": "ipython",
    "version": 3
   },
   "file_extension": ".py",
   "mimetype": "text/x-python",
   "name": "python",
   "nbconvert_exporter": "python",
   "pygments_lexer": "ipython3",
   "version": "3.8.3"
  }
 },
 "nbformat": 4,
 "nbformat_minor": 4
}
